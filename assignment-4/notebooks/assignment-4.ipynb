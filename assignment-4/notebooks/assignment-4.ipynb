{
 "cells": [
  {
   "cell_type": "code",
   "execution_count": 1,
   "metadata": {},
   "outputs": [],
   "source": [
    "import numpy as np\n",
    "from scipy.special import softmax\n",
    "import time\n",
    "import matplotlib.pyplot as plt"
   ]
  },
  {
   "cell_type": "code",
   "execution_count": 2,
   "metadata": {},
   "outputs": [],
   "source": [
    "def one_hot_encoding(x_vector, K, char_encoding):\n",
    "    X = np.zeros((K ,len(x_vector)))\n",
    "    x_encoding = [char_encoding[i] for i in x_vector]\n",
    "    for idx, x in enumerate(x_encoding):\n",
    "        X[x,idx]=1\n",
    "    return X"
   ]
  },
  {
   "cell_type": "markdown",
   "metadata": {},
   "source": [
    "# Assignment 4: Vanilla Recurrent Neural Network\n"
   ]
  },
  {
   "cell_type": "markdown",
   "metadata": {},
   "source": [
    "A RNN is a neural network which mainly works for processing sequential data. RNN models a dynamic system where the hidden state h at time t  depends on the input x at time t an also on the previous state h at time t-1. RNNs use hidden variables as a memory to capture long term information about a sequence."
   ]
  },
  {
   "cell_type": "markdown",
   "metadata": {},
   "source": [
    "## 0.1 Read in the data and get it ready"
   ]
  },
  {
   "cell_type": "code",
   "execution_count": 3,
   "metadata": {},
   "outputs": [],
   "source": [
    "book_fname='data/goblet_book.txt'"
   ]
  },
  {
   "cell_type": "code",
   "execution_count": 4,
   "metadata": {},
   "outputs": [],
   "source": [
    "book_data = open(book_fname, encoding='utf-8').read()"
   ]
  },
  {
   "cell_type": "code",
   "execution_count": 5,
   "metadata": {},
   "outputs": [],
   "source": [
    "book_chars=''.join(sorted(list(set(book_data))))\n",
    "K=len(book_chars) #len of all unique characters e.g\"' abcdefghijklmnopqrstuvwxyz\"."
   ]
  },
  {
   "cell_type": "code",
   "execution_count": 6,
   "metadata": {},
   "outputs": [
    {
     "name": "stdout",
     "output_type": "stream",
     "text": [
      "1107542\n",
      "\t\n",
      " !\"'(),-./01234679:;?ABCDEFGHIJKLMNOPQRSTUVWXYZ^_abcdefghijklmnopqrstuvwxyz}ü•\n",
      "80\n"
     ]
    }
   ],
   "source": [
    "print(len(book_data))\n",
    "print(book_chars)\n",
    "print(K)"
   ]
  },
  {
   "cell_type": "code",
   "execution_count": 7,
   "metadata": {},
   "outputs": [],
   "source": [
    "#dict key: letter, value letter idx.\n",
    "char_to_int = dict((letter, idx) for idx, letter in enumerate(book_chars))\n",
    "#dict key: letter idx, value letter.\n",
    "int_to_char = dict((idx, letter) for idx, letter in enumerate(book_chars))"
   ]
  },
  {
   "cell_type": "code",
   "execution_count": 8,
   "metadata": {},
   "outputs": [
    {
     "name": "stdout",
     "output_type": "stream",
     "text": [
      "{'\\t': 0, '\\n': 1, ' ': 2, '!': 3, '\"': 4, \"'\": 5, '(': 6, ')': 7, ',': 8, '-': 9, '.': 10, '/': 11, '0': 12, '1': 13, '2': 14, '3': 15, '4': 16, '6': 17, '7': 18, '9': 19, ':': 20, ';': 21, '?': 22, 'A': 23, 'B': 24, 'C': 25, 'D': 26, 'E': 27, 'F': 28, 'G': 29, 'H': 30, 'I': 31, 'J': 32, 'K': 33, 'L': 34, 'M': 35, 'N': 36, 'O': 37, 'P': 38, 'Q': 39, 'R': 40, 'S': 41, 'T': 42, 'U': 43, 'V': 44, 'W': 45, 'X': 46, 'Y': 47, 'Z': 48, '^': 49, '_': 50, 'a': 51, 'b': 52, 'c': 53, 'd': 54, 'e': 55, 'f': 56, 'g': 57, 'h': 58, 'i': 59, 'j': 60, 'k': 61, 'l': 62, 'm': 63, 'n': 64, 'o': 65, 'p': 66, 'q': 67, 'r': 68, 's': 69, 't': 70, 'u': 71, 'v': 72, 'w': 73, 'x': 74, 'y': 75, 'z': 76, '}': 77, 'ü': 78, '•': 79}\n"
     ]
    }
   ],
   "source": [
    "print(char_to_int)"
   ]
  },
  {
   "cell_type": "code",
   "execution_count": 9,
   "metadata": {},
   "outputs": [
    {
     "name": "stdout",
     "output_type": "stream",
     "text": [
      "{0: '\\t', 1: '\\n', 2: ' ', 3: '!', 4: '\"', 5: \"'\", 6: '(', 7: ')', 8: ',', 9: '-', 10: '.', 11: '/', 12: '0', 13: '1', 14: '2', 15: '3', 16: '4', 17: '6', 18: '7', 19: '9', 20: ':', 21: ';', 22: '?', 23: 'A', 24: 'B', 25: 'C', 26: 'D', 27: 'E', 28: 'F', 29: 'G', 30: 'H', 31: 'I', 32: 'J', 33: 'K', 34: 'L', 35: 'M', 36: 'N', 37: 'O', 38: 'P', 39: 'Q', 40: 'R', 41: 'S', 42: 'T', 43: 'U', 44: 'V', 45: 'W', 46: 'X', 47: 'Y', 48: 'Z', 49: '^', 50: '_', 51: 'a', 52: 'b', 53: 'c', 54: 'd', 55: 'e', 56: 'f', 57: 'g', 58: 'h', 59: 'i', 60: 'j', 61: 'k', 62: 'l', 63: 'm', 64: 'n', 65: 'o', 66: 'p', 67: 'q', 68: 'r', 69: 's', 70: 't', 71: 'u', 72: 'v', 73: 'w', 74: 'x', 75: 'y', 76: 'z', 77: '}', 78: 'ü', 79: '•'}\n"
     ]
    }
   ],
   "source": [
    "print(int_to_char)"
   ]
  },
  {
   "cell_type": "markdown",
   "metadata": {},
   "source": [
    "# 0.2 Set hyper-parameters & initialize the RNN's parameters:"
   ]
  },
  {
   "cell_type": "code",
   "execution_count": 10,
   "metadata": {},
   "outputs": [],
   "source": [
    "def init_param(book_data, m, eta, seq_length, sig):\n",
    "    data = {}\n",
    "    model_param= {}\n",
    "    data['book_data'] = book_data\n",
    "    data['K'] = len(''.join(sorted(list(set(data['book_data'])))))\n",
    "    model_param['m'] = m\n",
    "    model_param['eta'] = eta\n",
    "    model_param['seq_length'] = seq_length\n",
    "    model_param['sig'] = sig\n",
    "    h_0 = np.zeros((model_param['m'],1))\n",
    "    return data, model_param"
   ]
  },
  {
   "cell_type": "code",
   "execution_count": 11,
   "metadata": {},
   "outputs": [],
   "source": [
    "def init_weights(model_param, data):\n",
    "    weights = {}\n",
    "    weights['V'] = np.random.normal(loc=0.0, scale=model_param['sig'],\n",
    "                                       size=( data['K'], model_param['m']))  #Kxm\n",
    "    weights['W'] = np.random.normal(loc=0.0, scale= model_param['sig'],\n",
    "                                       size=(model_param['m'], model_param['m'])) #mxm\n",
    "    weights['U'] = np.random.normal(loc=0.0, scale= model_param['sig'], \n",
    "                                       size=( model_param['m'], data['K'])) #mxK\n",
    "    weights['c'] = np.zeros((data['K'],1)) #Kx1\n",
    "    weights['b'] = np.zeros((model_param['m'],1)) #mx1 \n",
    "    return weights"
   ]
  },
  {
   "cell_type": "code",
   "execution_count": 12,
   "metadata": {},
   "outputs": [],
   "source": [
    "data, model_param = init_param(book_data, m=5, eta=0.1, seq_length=25, sig=0.01)\n",
    "weights = init_weights(model_param, data)"
   ]
  },
  {
   "cell_type": "code",
   "execution_count": 13,
   "metadata": {},
   "outputs": [
    {
     "name": "stdout",
     "output_type": "stream",
     "text": [
      "HARRY POTTER AND THE GOBL\n",
      "ARRY POTTER AND THE GOBLE\n"
     ]
    }
   ],
   "source": [
    "#The label for an input character is the next character of the text,\n",
    "#e.g: first input letter = H -> label : A\n",
    "#second input letter = A\n",
    "X_chars = book_data[0:model_param['seq_length']]\n",
    "print(X_chars)\n",
    "Y_chars = book_data[1:model_param['seq_length']+1]\n",
    "print(Y_chars)"
   ]
  },
  {
   "cell_type": "code",
   "execution_count": 14,
   "metadata": {},
   "outputs": [],
   "source": [
    "X = one_hot_encoding(X_chars, data['K'], char_to_int) #Kxseq_length\n",
    "Y = one_hot_encoding(Y_chars, data['K'], char_to_int) #Kxseq_length"
   ]
  },
  {
   "cell_type": "code",
   "execution_count": 15,
   "metadata": {},
   "outputs": [],
   "source": [
    "x_encoding = [char_to_int[i] for i in X_chars]\n",
    "y_encoding = [char_to_int[i] for i in Y_chars]"
   ]
  },
  {
   "cell_type": "code",
   "execution_count": 16,
   "metadata": {},
   "outputs": [
    {
     "name": "stdout",
     "output_type": "stream",
     "text": [
      "[ True  True  True  True  True  True  True  True  True  True  True  True\n",
      "  True  True  True  True  True  True  True  True  True  True  True  True\n",
      "  True]\n",
      "[ True  True  True  True  True  True  True  True  True  True  True  True\n",
      "  True  True  True  True  True  True  True  True  True  True  True  True\n",
      "  True]\n"
     ]
    }
   ],
   "source": [
    "print(x_encoding == np.argmax(X, 0))\n",
    "print(y_encoding == np.argmax(Y, 0))"
   ]
  },
  {
   "cell_type": "code",
   "execution_count": 17,
   "metadata": {},
   "outputs": [
    {
     "name": "stdout",
     "output_type": "stream",
     "text": [
      "(80, 25) (80, 25)\n"
     ]
    }
   ],
   "source": [
    "print(X.shape, Y.shape)"
   ]
  },
  {
   "cell_type": "markdown",
   "metadata": {},
   "source": [
    "# 0.3 Synthesize text from your randomly initialized RNN:"
   ]
  },
  {
   "cell_type": "code",
   "execution_count": 18,
   "metadata": {},
   "outputs": [],
   "source": [
    "def synthesize_char_sequence(x0, h_0, weights, n):\n",
    "    h, x = h_0, x0\n",
    "    xnext = np.zeros((x0.shape[0], n))\n",
    "    for i in range(n):\n",
    "        a =  np.dot(weights['W'], h) + np.dot(weights['U'], x) + weights['b'] #mx1\n",
    "        h = np.tanh(a) #mx1\n",
    "        o = np.dot(weights['V'], h) + weights['c'] #Kx1\n",
    "        p = softmax(o)\n",
    "        cp = np.cumsum(p) #k,\n",
    "        a = np.random.uniform(0, 1, 1)\n",
    "        ixs = np.where(cp - a > 0) #idx list\n",
    "        ii = ixs[0][0]\n",
    "        xnext[ii,i] = 1\n",
    "        x = xnext[:, i].reshape(-1, 1) #Kx1\n",
    "    return xnext"
   ]
  },
  {
   "cell_type": "code",
   "execution_count": 19,
   "metadata": {},
   "outputs": [],
   "source": [
    "x0 = np.zeros((data['K'],1)) #dummy input vector Kx1\n",
    "x0[char_to_int['.']] = 1\n",
    "h_0 = np.zeros((model_param['m'],1))\n",
    "xnext = synthesize_char_sequence(x0, h_0, weights, n=180)"
   ]
  },
  {
   "cell_type": "code",
   "execution_count": 20,
   "metadata": {},
   "outputs": [
    {
     "name": "stdout",
     "output_type": "stream",
     "text": [
      "(80, 180)\n"
     ]
    },
    {
     "data": {
      "text/plain": [
       "180.0"
      ]
     },
     "execution_count": 20,
     "metadata": {},
     "output_type": "execute_result"
    }
   ],
   "source": [
    "#sanity check\n",
    "print(xnext.shape)\n",
    "sum(np.sum(xnext,0))"
   ]
  },
  {
   "cell_type": "code",
   "execution_count": 21,
   "metadata": {
    "scrolled": true
   },
   "outputs": [
    {
     "data": {
      "text/plain": [
       "array([68, 24, 12, 27, 42, 44,  0, 22, 39,  7, 18, 19, 57, 50,  4, 32, 13,\n",
       "       32, 36, 14, 53, 69, 29, 60, 43, 53, 38, 31, 37, 32, 32, 15,  2, 40,\n",
       "       37,  6,  1, 40, 36, 66, 62, 24, 17,  0, 39, 71, 14, 46,  2, 76, 54,\n",
       "       31, 56, 30, 35,  5, 68, 69, 66, 51, 57, 63, 55, 73, 56, 75, 27,  7,\n",
       "       35, 65, 22, 47, 32, 28, 40, 64, 45, 15, 55, 33, 60, 63, 66, 28, 20,\n",
       "       60, 56, 62, 26, 40, 62, 24, 40, 50, 28, 29,  2, 46, 70, 77,  4, 56,\n",
       "       15, 15, 15, 59, 71,  1, 66, 37, 21, 38, 24, 61, 77, 59, 57, 34, 77,\n",
       "       44, 38, 30, 10,  9, 20, 24, 66, 36, 40, 11, 65, 73, 42, 67,  7, 47,\n",
       "       52, 22, 62, 79,  3, 12, 77, 41, 32, 57, 27, 14, 53, 48,  1, 37, 61,\n",
       "       66, 26, 26, 24, 57, 29, 62, 42, 52, 55, 23, 63, 34, 37, 46, 11, 25,\n",
       "       52, 22, 16, 30, 67, 78, 39, 52, 45, 75])"
      ]
     },
     "execution_count": 21,
     "metadata": {},
     "output_type": "execute_result"
    }
   ],
   "source": [
    "np.argmax(xnext, axis=0)"
   ]
  },
  {
   "cell_type": "code",
   "execution_count": 22,
   "metadata": {},
   "outputs": [
    {
     "name": "stdout",
     "output_type": "stream",
     "text": [
      "rB0ETV\t?Q)79g_\"J1JN2csGjUcPIOJJ3 RO(\n",
      "RNplB6\tQu2X zdIfHM'rspagmewfyE)Mo?YJFRnW3eKjmpF:jflDRlBR_FG Xt}\"f333iu\n",
      "pO;PBk}igL}VPH.-:BpNR/owTq)Yb?l•!0}SJgE2cZ\n",
      "OkpDDBgGlTbeAmLOX/Cb?4HqüQbWy\n"
     ]
    }
   ],
   "source": [
    "print(''.join(int_to_char[i] for i in np.argmax(xnext, axis=0)))"
   ]
  },
  {
   "cell_type": "markdown",
   "metadata": {},
   "source": [
    "# 0.4 Implement the forward & backward pass of back-prop:"
   ]
  },
  {
   "cell_type": "code",
   "execution_count": 23,
   "metadata": {},
   "outputs": [],
   "source": [
    "def compute_loss(weights, context_vect, X, Y):\n",
    "    ce_loss = 0\n",
    "    a_t, h_t, o_t, p_t = {}, {}, {}, {}\n",
    "    h_t[-1] = context_vect\n",
    "    n_T = X.shape[1]\n",
    "    for t in range(n_T):\n",
    "        a_t[t] = np.dot(weights['W'], h_t[t-1]) + np.dot(weights['U'], X[:,t].reshape(-1,1)) + weights['b'] #mx1\n",
    "        h_t[t] = np.tanh(a_t[t]) #mx1\n",
    "        o_t[t] = np.dot(weights['V'], h_t[t]) + weights['c'] #Kx1\n",
    "        p_t[t] = np.exp(o_t[t]) / np.matmul(np.ones((1, o_t[t].shape[0])), np.exp(o_t[t])) #Kx1\n",
    "        ce_loss += -np.log(np.dot(Y[:, t].reshape(1, -1), p_t[t]))\n",
    "    return h_t, p_t, ce_loss[0]\n"
   ]
  },
  {
   "cell_type": "code",
   "execution_count": 24,
   "metadata": {},
   "outputs": [],
   "source": [
    "def compute_gradients(weights, context_vect, X_, Y_):\n",
    "    #total number of states t\n",
    "    n_T = X_.shape[1]\n",
    "    #compute loss\n",
    "    h_t, p_t, ce_loss = compute_loss(weights, context_vect, X_, Y_)\n",
    "    \n",
    "    # backward pass\n",
    "    d_b, d_c = np.zeros_like(weights['b']), np.zeros_like(weights['c'])\n",
    "    d_ot, d_at, d_ht = {}, {}, {}\n",
    "    grads = {}\n",
    "    grads['V'] = 0\n",
    "    grads['W'] = 0\n",
    "    grads['U'] = 0\n",
    "    grads['c'] = np.zeros_like(weights['c']) #Kx1\n",
    "    grads['b'] = np.zeros_like(weights['b'])\n",
    "    \n",
    "    #as d_ht at time T = d_ot[t] * V, I initiallize d_a_next (d_at[t+1]) at zero,\n",
    "    #and later assign d_a_next  = d_at[t] \n",
    "    #this as d_ht at time t = d_ot[t] * V + d_at[t+1] * W \n",
    "    d_a_next = np.zeros((model_param['m'], 1))\n",
    "    \n",
    "    # we need to iterate backwards as for computing d_ht[t] we need d_at[t+1]\n",
    "    for t in reversed(range(n_T)):\n",
    "        d_ot[t] = -(Y_[:,t].reshape(-1, 1) - p_t[t]) #Kx1\n",
    "        grads['V'] += np.dot(d_ot[t], h_t[t].T) #Kxm\n",
    "        grads['c'] = grads['c'] + d_ot[t] #Kx1\n",
    "        d_ht[t] = np.dot(d_ot[t].T, weights['V']).T + np.dot(weights['W'].T, d_a_next) #mx1\n",
    "        d_at[t] = d_ht[t] * (1 - (h_t[t] * h_t[t])) #mx1\n",
    "        d_a_next = d_at[t]\n",
    "        grads['b'] =  grads['b'] + d_at[t] #mx1\n",
    "        grads['W'] += np.dot(d_at[t], h_t[t-1].T) #mxm\n",
    "        grads['U'] += np.dot(d_at[t], X_[:,t].reshape(1,-1)) #mxk\n",
    "    new_context_vector = h_t[n_T - 1].copy()\n",
    "    \n",
    "    # to avoid the exploding gradient\n",
    "    for keys, gradients in grads.items():\n",
    "        gradients = np.clip(gradients, -5, 5, out=gradients)\n",
    "    \n",
    "    return ce_loss[0], grads, new_context_vector\n"
   ]
  },
  {
   "cell_type": "code",
   "execution_count": 25,
   "metadata": {},
   "outputs": [],
   "source": [
    "def NumericalGradients(weights_,X_,Y_):\n",
    "    \"\"\"\n",
    "    Numerical gradients using Finite difference Formula.\n",
    "    \"\"\"\n",
    "    h_0 = np.zeros((model_param['m'],1))\n",
    "    h=1e-4\n",
    "    numerical_gradients = {}\n",
    "    for key, weight in weights_.items():\n",
    "        numerical_gradients[key] = np.zeros_like(weight)\n",
    "        #each weight(key) has a different dimension\n",
    "        for i in range(weights_[key].shape[0]):\n",
    "            for j in range(weights_[key].shape[1]):\n",
    "                # + h, I could have deep copied \n",
    "                weights_[key][i][j] += h\n",
    "                _, _, l2 = compute_loss(weights_, h_0, X_, Y_)\n",
    "                # as I have previously modified the weights(+h) I need to substract twice - h\n",
    "                weights_[key][i][j] -= 2*h\n",
    "                _, _, l1 = compute_loss(weights_, h_0, X_, Y_)\n",
    "                #initial weights\n",
    "                weights_[key][i][j] += h\n",
    "                numerical_gradients[key][i][j] = (l2-l1) / (2*h)\n",
    "    return numerical_gradients"
   ]
  },
  {
   "cell_type": "code",
   "execution_count": 26,
   "metadata": {},
   "outputs": [],
   "source": [
    "def VerifyGradients(analytical_grad_dictionary, numerical_grad_dictionary):\n",
    "    max_relative_error = {}\n",
    "    eps = 1e-15\n",
    "    for (key_i,analit_weight), (key_j,num_weight) in zip(analytical_grad_dictionary.items(), numerical_grad_dictionary.items()):\n",
    "        max_value = np.maximum(eps, np.absolute(analit_weight) + np.absolute(num_weight))\n",
    "        max_relative_error[key_i] = np.amax(np.absolute(analit_weight-num_weight) / max_value)\n",
    "    return max_relative_error"
   ]
  },
  {
   "cell_type": "code",
   "execution_count": 27,
   "metadata": {},
   "outputs": [],
   "source": [
    "#analytical gradients:\n",
    "loss, grads, _ = compute_gradients(weights, h_0, X, Y)\n",
    "#numerical gradients:\n",
    "numerical_gradients = NumericalGradients(weights,X,Y)"
   ]
  },
  {
   "cell_type": "code",
   "execution_count": 28,
   "metadata": {},
   "outputs": [
    {
     "data": {
      "text/plain": [
       "{'V': 4.1144612911662657e-07,\n",
       " 'W': 1.4415513745363808e-06,\n",
       " 'U': 3.2111687931512057e-07,\n",
       " 'c': 1.1419375590515373e-09,\n",
       " 'b': 5.8311830205565415e-09}"
      ]
     },
     "execution_count": 28,
     "metadata": {},
     "output_type": "execute_result"
    }
   ],
   "source": [
    "VerifyGradients(grads,numerical_gradients )"
   ]
  },
  {
   "cell_type": "markdown",
   "metadata": {},
   "source": [
    "# 0.5 Train your RNN using AdaGrad:"
   ]
  },
  {
   "cell_type": "code",
   "execution_count": 29,
   "metadata": {},
   "outputs": [],
   "source": [
    "def train_model(data, model_param, weights, n_epochs = 10, update_step = 10000, n_=200, save_file = 'none'):\n",
    "    \n",
    "    book_data = data['book_data']\n",
    "    seq_length = model_param['seq_length']\n",
    "    K = data['K']\n",
    "    m = model_param['m']\n",
    "    eta = model_param['eta']\n",
    "    text_book_length = len(book_data)\n",
    "    iter_per_epoch= text_book_length // seq_length\n",
    "    total_num_iterations = n_epochs*iter_per_epoch\n",
    "    \n",
    "    m_weights = {}\n",
    "    for weight_key, weight_matrix in weights.items():\n",
    "        m_weights[weight_key] = np.zeros_like(weight_matrix)\n",
    "\n",
    "    train_loss = {}\n",
    "    smooth_loss = {}\n",
    "    best_model = {}\n",
    "    synth = {}\n",
    "    best_smooth_loss = 43\n",
    "    e = 0\n",
    "    h_0 = np.zeros((m, 1))\n",
    "    \n",
    "    print(f'epochs = {n_epochs}')\n",
    "    tic = time.time() \n",
    "    for iteration in range(total_num_iterations):\n",
    "\n",
    "        if iteration == 0 or e > (text_book_length - seq_length - 1):\n",
    "            h_0 = np.zeros((m, 1))\n",
    "            e = 0\n",
    "\n",
    "        #prepare data sequence\n",
    "        X_chars = book_data[e: e + seq_length]\n",
    "        Y_chars = book_data[e + 1: e + seq_length + 1]\n",
    "\n",
    "        X = one_hot_encoding(X_chars, K, char_to_int) #Kxseq_length\n",
    "        Y = one_hot_encoding(Y_chars, K, char_to_int) #Kxseq_length\n",
    "\n",
    "\n",
    "        #compute loss and grads\n",
    "        loss, grads, new_h_0 = compute_gradients(weights, h_0, X, Y)\n",
    "\n",
    "        smooth_loss_ = loss if e == 0 or iteration == 0 else 0.999 * smooth_loss_ + 0.001 * loss\n",
    "       \n",
    "        train_loss[iteration] = loss\n",
    "        smooth_loss[iteration] = smooth_loss_\n",
    "        \n",
    "        if smooth_loss_ < best_smooth_loss:\n",
    "                best_smooth_loss = smooth_loss_\n",
    "                best_model['loss'] = loss\n",
    "                best_model['smooth_loss'] = smooth_loss_\n",
    "                best_model['pred_text'] = xnext\n",
    "                best_model['grads'] = grads\n",
    "                best_model['weights'] = weights\n",
    "                best_model['h_0'] = h_0\n",
    "                \n",
    "        if (iteration - 1) % (update_step) == 0:\n",
    "            print('-------')\n",
    "            print(f'iteration = {iteration} / {total_num_iterations}')\n",
    "            print(f'Smooth loss = {float(smooth_loss_)}')\n",
    "            print('-------')\n",
    "            xnext = synthesize_char_sequence(X[:,[0]], h_0, weights, n=n_)\n",
    "            synth[iteration] = xnext\n",
    "            print(''.join(int_to_char[i] for i in np.argmax(xnext, axis=0)))\n",
    "\n",
    "        #apply adaGrad Algorithm\n",
    "        #It adapts the learning rate to the parameters, performing smaller updates\n",
    "        for key, weight in weights.items():\n",
    "            m_weights[key] += grads[key]**2\n",
    "            weights[key] = weights[key] -  eta  * grads[key] / np.sqrt(m_weights[key] + 1e-8)\n",
    "\n",
    "        e += seq_length\n",
    "\n",
    "        # new step context update\n",
    "        h_0 = new_h_0\n",
    "    tac = time.time() \n",
    "    print(f'training took {tac - tic} seconds')\n",
    "    \n",
    "    if save_file == 'none':\n",
    "        return train_loss, smooth_loss, best_model\n",
    "    \n",
    "    np.savez( save_file, train_loss=train_loss, smooth_loss=smooth_loss, best_model=best_model)\n",
    "    return train_loss, smooth_loss, best_model"
   ]
  },
  {
   "cell_type": "code",
   "execution_count": 42,
   "metadata": {},
   "outputs": [],
   "source": [
    "data, model_param = init_param(book_data, m=100, eta=0.1, seq_length=25, sig=0.01)\n",
    "weights = init_weights(model_param, data)"
   ]
  },
  {
   "cell_type": "code",
   "execution_count": 43,
   "metadata": {},
   "outputs": [
    {
     "name": "stdout",
     "output_type": "stream",
     "text": [
      "epochs = 10\n",
      "-------\n",
      "iteration = 1 / 443010\n",
      "Smooth loss = 109.55385914941219\n",
      "-------\n",
      "1)OYtFjw\n",
      "))}VLE0GeWBum,DhTgBtoSYY,}?mvD\tLj^kp4(hXPQ1ü4_.pOeHGTLmGa,AMhTP•wHA.ANDz!eFLD?\"oi;p9XfLE4ü/29Qo.mo4,X\tw'/.UBEVkmS'LXFEE /L\t)T4sN(h'\tY;AkJ.A'7hbx)4y7\n",
      "B1kY9?9:A0\"yiD09R•.jj(;RFHW_rw0BIwW3l)cyVü\n",
      "-------\n",
      "iteration = 10001 / 443010\n",
      "Smooth loss = 52.60691545687797\n",
      "-------\n",
      "nours Ro her. dfoat.\"Wearlillor. Wayfien tha wharmid acoun, an, Wharkieg on of homas.  aikey eron theassear of a rus wor a chashillllerch the bow hilg  fom Harry . . . . Rmathis an istnle cot andy, an\n",
      "-------\n",
      "iteration = 20001 / 443010\n",
      "Smooth loss = 49.303036035218355\n",
      "-------\n",
      "the hire lowril.  HAr- said?\"\n",
      "\n",
      "Bar had led,\"\n",
      "Hagry wiseely tcoul allt.\n",
      "\"E'g.  Mad Petsing hid Parcor Hhorishert slakryra ar?\"\n",
      "\n",
      "\"Htimer for her dicker had set dely.\n",
      "\"Alling to kid mith dlefermanser?\" H\n",
      "-------\n",
      "iteration = 30001 / 443010\n",
      "Smooth loss = 47.94362252706097\n",
      "-------\n",
      "icking it taingy suareew pellodabing to goolvering the fiked that Rot.  To in morntin hereway had plap cindle gowl To vinter ag had Spoad.  Bnot. .T. vaim a tittor chea laigh wher; star putg.  beento \n",
      "-------\n",
      "iteration = 40001 / 443010\n",
      "Smooth loss = 46.76903222159519\n",
      "-------\n",
      "d nePlaking; flating ent,, seamen the waid; he didly the gold chest were hem sare a stalank not Qumped and Vording werpiog crame had manding thongaar squrst angelefting to the rang mangle.\n",
      "An agea hap\n",
      "-------\n",
      "iteration = 50001 / 443010\n",
      "Smooth loss = 47.80419399189599\n",
      "-------\n",
      "eppell all had wery, he dous, and in uthing the all a mashed, not mecly had saucle, Harring.  \"Weytcrough in they, the been unted on turnigga un hee ofest thing o.\"\n",
      "\"Theying be light  amone kindinn ou\n",
      "-------\n",
      "iteration = 60001 / 443010\n",
      "Smooth loss = 45.961093631280534\n",
      "-------\n",
      "Welssaing at the waice.  Itribuln the a sery, wenling Harry, binks explent.  On at wige fly wanking egghts sully.\n",
      "\" saud them they betinding.\n",
      "\"She gought it they turned was was grie him.\n",
      "\"I frontinger\n",
      "-------\n",
      "iteration = 70001 / 443010\n",
      "Smooth loss = 45.75219664143871\n",
      "-------\n",
      "igked to limcinged - with ball kibledait up brabe cagble Fad loding have Harry, stooke looked fill and quighe the saut.\n",
      "\"And foug, moow ghitk sougher, and awaling they weres hee dead anoow cout Andeam\n",
      "-------\n",
      "iteration = 80001 / 443010\n",
      "Smooth loss = 43.86967921359042\n",
      "-------\n",
      "ave straken, the from sle, fors do, attell was Aprecting reaped aurs Cluve mirting only enge, hidd and parcly he of thonsthen, pull dooksting the evipee!\"\n",
      "\"Werisat's about aroug, whong youn't prosks w\n",
      "-------\n",
      "iteration = 90001 / 443010\n",
      "Smooth loss = 60.92809525490248\n",
      "-------\n",
      " Warming he hissplought, ses sight won of filling rearsais, he cropt of his was shordeing Vornt, sich oul in had for then? fer Madands whisped the was poncure Dviacher sbuslinged the samsy of withe.  \n",
      "-------\n",
      "iteration = 100001 / 443010\n",
      "Smooth loss = 45.48344481741457\n",
      "-------\n",
      "ith eughcever.\n",
      "\"Weard him namsest it for rumbly.\n",
      "\"You vare hard them endifess you well, downave to or around that abre pot to afreggy fres year on a nouses grees werenr only to was who youd not you da\n",
      "-------\n",
      "iteration = 110001 / 443010\n",
      "Smooth loss = 43.31923584329762\n",
      "-------\n",
      "ars, whem.\"\n",
      "\"Nis thackich, the pithering injear Pettere have finged that the it ief a get?  We gackning head,\" said Harry towed in crouters into sled memie.  \"OWentoking. \"Ambeverever him, the it, loi\n",
      "-------\n",
      "iteration = 120001 / 443010\n",
      "Smooth loss = 43.69686368488\n",
      "-------\n",
      "ld lod inied was stalling mignt Profe werry, but was whatess - she toum ffon hgy wital and their want great?\" said Ron was Call its are.  Profesleass.  \"Did the Trim looked eyet the smilkwinds to beel\n",
      "-------\n",
      "iteration = 130001 / 443010\n",
      "Smooth loss = 42.384046089689626\n",
      "-------\n",
      " me haven, ese mank,\"\n",
      "He rearments coles doxes.  Sreak, \"Sibhthine to has has foie wite fortery In't's pes, his fimy.  \"Going up tar Sy sext.  \"Yeid on entcent sould wore foreeres to Verin's daskly he\n",
      "-------\n",
      "iteration = 140001 / 443010\n",
      "Smooth loss = 45.737590544883005\n",
      "-------\n",
      " thee the olly that gove Magich they ap to wiremd the gule himing up gless cont the Vernanded the Ron crave that's foath side into the acces.\n",
      "\"I hind wize, he gef to to deech saw te sluded, and go in \n",
      "-------\n",
      "iteration = 150001 / 443010\n",
      "Smooth loss = 42.67767810065654\n",
      "-------\n",
      "evers. him, boor go.  \"Fuccosis, he nonete's for threenfor Banies in and Hermionh for).\n",
      "\"Bid Frit tasiod.  There said coldesain.  Thilver tapovenken mmcayaned.  They no Mongh dode the bife oned it hal\n",
      "-------\n",
      "iteration = 160001 / 443010\n",
      "Smooth loss = 43.18712197345374\n",
      "-------\n",
      "g wish Cruly.  \"Wead.\n",
      " Kvermast how Thy tindarbening as too a shis . . . he whoir partleoke, the dolee dind and - pasped to us wizard marting were a youd and said?  Renthaiks feek that's who very jubh\n",
      "-------\n",
      "iteration = 170001 / 443010\n",
      "Smooth loss = 42.14216190470915\n",
      "-------\n",
      " shadd ground; the Dammy heads fac moss Sny hiskfies. . ... about thilk!\"  Malkive groom,\" ha so that ochely. Halred.  Neal tight.  He say gitly all onta Harry toed Danxile had sootion bucked Che's ba\n",
      "-------\n",
      "iteration = 180001 / 443010\n",
      "Smooth loss = 45.28091009596306\n",
      "-------\n",
      "d Harry the lood,\" saiding liggory alougd are a sibolf in outrendle.\n",
      "\"Me searly, he have wincing wask no, whith revidnactide, bad listle ter, schure!\"\n",
      "Voldes. ...\n",
      "Harry fingyor Frid.  Madre, Get his i\n",
      "-------\n",
      "iteration = 190001 / 443010\n",
      "Smooth loss = 43.403135725954094\n",
      "-------\n",
      "n tarm prust.\n",
      "NOther back aroutug like non will that in, E'plo!\" Dunging too, reved on his just and tos? The It the thoushed Hos for, Ron it lond itcher over in all sotick.. Trike you no my over thouc\n",
      "-------\n",
      "iteration = 200001 / 443010\n",
      "Smooth loss = 42.04454659973815\n",
      "-------\n",
      "and poblook nevered the Brianedly stees, there a fony Harry, ham oncol. . . would somest be off salkcowern't's and startouss, said was foo over be eisabs a wiftione wan by what of the adowwing tised, \n",
      "-------\n",
      "iteration = 210001 / 443010\n",
      "Smooth loss = 41.96730564821354\n",
      "-------\n",
      " now upparouse wanted were lough you und,\" said Harry, be the door,\" saround had just poly extled face a muphtousl to the too veesaan't ead her affroog oe the pucicurct. . . . the grinwing fet to math\n",
      "-------\n",
      "iteration = 220001 / 443010\n",
      "Smooth loss = 40.666663696627964\n",
      "-------\n",
      "he remest his was was dpone tew was upeney.  He were.  Azone you her mupbout gown, he haps; downtentaom, but it to on the ryou yerding, pered actee!\"  Freathe-bat Dumpledore encets shat wifken, the st\n",
      "-------\n",
      "iteration = 230001 / 443010\n",
      "Smooth loss = 41.348868002987\n",
      "-------\n",
      "  Harry at to the thind wan bulot?\"\n",
      "\"Fremss who why were Ron, the carkily of his eyes her!\"\n",
      "\"I're anxtonely.. Whishoted to meall, in in nough be line mark it they's taltlent, and hord?\"  sher had to a\n",
      "-------\n",
      "iteration = 240001 / 443010\n",
      "Smooth loss = 41.72742326160772\n",
      "-------\n",
      "g,\" Oit mashed into stelling lowl on hand.\n",
      "\"At it back wive tawn looked, sed misay.  Co in ontere Maxich.\n",
      "\"Ij a dabbed!\" said Harry,\" said Harry's gaclderning, plund an might a for, a woraty is to?\"\n",
      "\"\n",
      "-------\n",
      "iteration = 250001 / 443010\n",
      "Smooth loss = 42.44135011401356\n",
      "-------\n",
      " his paving thoughtors ognoves amse forently had antold.\n",
      "\"I've offliter, and soigh, sossionter Profes they his inst dreak.  Yout was the mechally Magical it bipe in inger that's scisitinss foore gowro\n",
      "-------\n",
      "iteration = 260001 / 443010\n",
      "Smooth loss = 40.65713906719304\n",
      "-------\n",
      "p, you known really.\n",
      "Harry the Harry on thign, to, Hermione notet,\" He waich no Harry sides, and this the stend, I. maured.  Sewing his robout unach up awrieders for of the amen paid, pott Harry curen\n",
      "-------\n",
      "iteration = 270001 / 443010\n",
      "Smooth loss = 42.27586470791947\n",
      "-------\n",
      ".. Aprione.\n",
      "\" Hermiored, beevels.  The gop wes good at then the wole had beformord the mone Potter elle.\n",
      "\"My of around Moody, sectiam had alley and their kereet durge at its evered you nove of took's \n",
      "-------\n",
      "iteration = 280001 / 443010\n",
      "Smooth loss = 42.5953485284276\n",
      "-------\n",
      "impes: Geilling got a refolty otes plicking inxtrouned it fmile. \"Come bang't normbayall. you coldess to and with ted couldy side, anstsurtly lought and not like of his Randing.  There.\"\n",
      "\"Itunr riddow\n",
      "-------\n",
      "iteration = 290001 / 443010\n",
      "Smooth loss = 40.96641040650545\n",
      "-------\n",
      "ns out in the omer belle a low happyons looked's hadben Fred my very thom the hask, \"U\n",
      "T\n",
      "\"Hage that thee?\"\n",
      "\"Gout Hunded hads with on Mo, whibe have shans. \"\n",
      "\"Thinked mechotsing acting every tonear. Sh\n"
     ]
    },
    {
     "name": "stdout",
     "output_type": "stream",
     "text": [
      "-------\n",
      "iteration = 300001 / 443010\n",
      "Smooth loss = 39.60197392589072\n",
      "-------\n",
      "on'y it,\" said. Yeh, and could hands have grourderremiLf roundiesbant of Fide had 't'r half . ...\" He Side Hagrid boid in he long Dobbysing Harry.  \"He mensaed.\n",
      "\"You nonkeding soophto taps.\n",
      "\"When Croo\n",
      "-------\n",
      "iteration = 310001 / 443010\n",
      "Smooth loss = 39.72945001982676\n",
      "-------\n",
      " villing zingal come at than shor keen to ened that time you modd fret, Krusk'ur him eaticur.  \"Ar.  Co retid won't of oP Harry abaggread it,\" said Dumbledore's lult slad be osed I bin as to on the 2i\n",
      "-------\n",
      "iteration = 320001 / 443010\n",
      "Smooth loss = 40.989638140956956\n",
      "-------\n",
      "wsice uplarg was sore.\n",
      "Krigning..\n",
      "\"If into the thike, his never enosser,\" sarry move me elooking wanding them, liax the come Jang, permon't on the Broom, ecked the curmys.\n",
      "\"Yeah, \"On ragme-greet Krum \n",
      "-------\n",
      "iteration = 330001 / 443010\n",
      "Smooth loss = 40.785007607032945\n",
      "-------\n",
      "tap,\"  he dufforning feop e'choy.\n",
      "Neven sod of Mrs peen at to the was and again Cack robed when youn seft mittily Moody of the sworstunat? \n",
      "Doteheaned cangers Harry sedseats. Sarg \"around, will just a\n",
      "-------\n",
      "iteration = 340001 / 443010\n",
      "Smooth loss = 41.222782503124904\n",
      "-------\n",
      " down the upon an hissed.\n",
      "\"Thackhing Triared.  Dvandlater hat zavir get todoungbars at hed were gook und goigying for with Harry who were hand had to it's had been next took he wandle keet-wall muchte\n",
      "-------\n",
      "iteration = 350001 / 443010\n",
      "Smooth loss = 40.437785597831024\n",
      "-------\n",
      "u long, and any did looked his hear sifrance out sclased no just the Mining.  Hare sperfore and had smill mounged a wourds, and, he know to. but mup wee blacised serk abofking a to sayw, Ron. \"It thea\n",
      "-------\n",
      "iteration = 360001 / 443010\n",
      "Smooth loss = 42.16770799014469\n",
      "-------\n",
      "ir one him!\"\n",
      "Oor... him, ealle contarencalf when abowt was fold, Ron of an ole los on st Mr. Crount, do boWed be shook-ere's as minay dowly amoward,\" said Mr. Weasleys' me lagky, into see sheet didn't\n",
      "-------\n",
      "iteration = 370001 / 443010\n",
      "Smooth loss = 40.36884991519158\n",
      "-------\n",
      " saidy\n",
      "\"Peawing al. They rifes both he lut the shoun.  There looked and seen, Fred belaksing cured congy to offtenged in frairs.  Madge see yourtly angrery to out alarg Harry secting to smmoider at're\n",
      "-------\n",
      "iteration = 380001 / 443010\n",
      "Smooth loss = 40.88367755957947\n",
      "-------\n",
      "thee,\" Hermione brabbight; for at on their cwaied know dlathiy monframars\" he shadring scarmelin's Suons with exind's voice-coutkn't him Poot they.  \"I'm frogtrouching to instonsces a made at ending t\n",
      "-------\n",
      "iteration = 390001 / 443010\n",
      "Smooth loss = 39.306155400841405\n",
      "-------\n",
      "e the Twortly -bother quicked?\"\n",
      "\"Oh kicked Ron laar Maviding mivanip Vour.  \"Neventered you, sirnor of worldins  He bates paredly Murgrertur,.\n",
      "\"I werved at it up the vould cersion.  \"Ludh of the summa\n",
      "-------\n",
      "iteration = 400001 / 443010\n",
      "Smooth loss = 45.22833345001041\n",
      "-------\n",
      "e wournentle.  Eull had trating the wnack for loulder his fors aroug, fallle thead tkunk; wes, an of civing to the roilly bup out his swespounnam plass, in, biy Harly and and who was wastrart. .\" sorr\n",
      "-------\n",
      "iteration = 410001 / 443010\n",
      "Smooth loss = 41.830329222066766\n",
      "-------\n",
      "you hand over rand.  Snape was speainding really ey of yet wizards boticius aning horss\"\n",
      "\"You of exceveos plictying to but fingers as mool on stiling in they warg stshinot this to tine - they, \"The cl\n",
      "-------\n",
      "iteration = 420001 / 443010\n",
      "Smooth loss = 39.781225997007\n",
      "-------\n",
      "it exching.  It are them wand!   Helking cannated thought of they untinble loyled. A Krubsts zoomedrightes ingelt gown.\n",
      "Harry 'ight buck \n",
      "Tubblewin, and Fudd him to was when one uny some thee that hap\n",
      "-------\n",
      "iteration = 430001 / 443010\n",
      "Smooth loss = 40.66237174549986\n",
      "-------\n",
      "bit like trapped an eached the very conges Potter suirthe!\" Ron hourliageing yet.\n",
      "\"Set yel.  bodror, Draco,\"\n",
      "\"I not away.  In to make teot ale that gget.  Slapw every.\n",
      "\"BuTnelly feetalte bowly (math a\n",
      "-------\n",
      "iteration = 440001 / 443010\n",
      "Smooth loss = 39.0610198968989\n",
      "-------\n",
      "e land lowd the juine tol Potter, sire trother had parely damma petting perk Mad-Ey sprcking, theelteds as you.  He?., and hat duMut he could finters turned lerved of the farery you jumy.  \"Down as lu\n",
      "training took 1218.229176044464 seconds\n"
     ]
    }
   ],
   "source": [
    "train_loss, smooth_loss, best_model= train_model(data, model_param, weights, \n",
    "                                                n_epochs = 10, update_step = 10000, n_=200, \n",
    "                                                save_file = 'results_180719')"
   ]
  },
  {
   "cell_type": "code",
   "execution_count": 44,
   "metadata": {},
   "outputs": [
    {
     "data": {
      "text/plain": [
       "38.30192759989202"
      ]
     },
     "execution_count": 44,
     "metadata": {},
     "output_type": "execute_result"
    }
   ],
   "source": [
    "best_model['smooth_loss']"
   ]
  },
  {
   "cell_type": "code",
   "execution_count": 95,
   "metadata": {},
   "outputs": [
    {
     "data": {
      "image/png": "[encoded data removed]",
      "text/plain": [
       "<Figure size 720x216 with 2 Axes>"
      ]
     },
     "metadata": {
      "needs_background": "light"
     },
     "output_type": "display_data"
    }
   ],
   "source": [
    "f, (ax1, ax2) = plt.subplots(1, 2, figsize=(10,3))\n",
    "ax1.plot(smooth_loss.keys(), list(smooth_loss.values()), color='tab:blue')\n",
    "ax1.set_title('(a)')\n",
    "ax1.set_ylabel('Smooth loss')\n",
    "ax1.set_xlabel('update step')\n",
    "ax2.plot([i for i in range(1,len(smooth_loss.keys()),10000)], \n",
    "         [smooth_list[i] for i in [i for i in range(1,len(smooth_loss.keys()),10000)]],\n",
    "         color='tab:blue')\n",
    "ax2.set_title('(b)')\n",
    "ax2.set_ylabel('Smooth loss')\n",
    "ax2.set_xlabel('update step')\n",
    "plt.savefig('test')\n",
    "plt.show()"
   ]
  },
  {
   "cell_type": "code",
   "execution_count": 46,
   "metadata": {
    "scrolled": true
   },
   "outputs": [
    {
     "name": "stdout",
     "output_type": "stream",
     "text": [
      "Arne greep.  It and Snapplimple Vobled to Harry exatp and sud how Weasley swenter.\n",
      "\"Well, but have chilly down awainuy to his smyong the Ro.  Ansts-out Fudd the polwardly,\" seersing to the fectort at asmeres and me brenss asseng over -  no!\"\n",
      "\"Mock.\n",
      "\"Com over us only not almost, my the nears, gobgley, but when the momens the. . .\n",
      "\"Beat, I'll below, his when yet half feet was cooked enougn your.  Whicking back.  He nelling; is don't, him.\"\n",
      "Fudd cood, way minateen still pleet to where, what,\" said Moody orking his nis?, Fred loiden.\n",
      "Harry turned him.  Fther.  Mrs. Weasley would names. No.  bas, went thenesler he Num!  Hordt flat and suir.\n",
      "Disstusenge pleas.  \"Hogkers din on the Geove had hest of didfer, allod.  AGon ort to clos to heape.\n",
      "\" you happened,\"\"Ghe someysosped where, sal sudnermally were levere.  Yo Ron be dot they of Lure thedely, vidding one of a mistering of sours looked its.\n",
      "\"Why and Fred thit's would trien they went.\n",
      "He?\"\n",
      "Bo non, I.\"R Harry's, that Hogly voissly.  bas talki\n"
     ]
    }
   ],
   "source": [
    "xnext = synthesize_char_sequence(X[:,[0]], best_model['h_0'], best_model['weights'], n=1000)\n",
    "print(''.join(int_to_char[i] for i in np.argmax(xnext, axis=0)))"
   ]
  }
 ],
 "metadata": {
  "kernelspec": {
   "display_name": "Python 3",
   "language": "python",
   "name": "python3"
  },
  "language_info": {
   "codemirror_mode": {
    "name": "ipython",
    "version": 3
   },
   "file_extension": ".py",
   "mimetype": "text/x-python",
   "name": "python",
   "nbconvert_exporter": "python",
   "pygments_lexer": "ipython3",
   "version": "3.6.8"
  }
 },
 "nbformat": 4,
 "nbformat_minor": 2
}
